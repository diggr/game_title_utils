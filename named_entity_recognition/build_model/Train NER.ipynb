{
 "cells": [
  {
   "cell_type": "markdown",
   "metadata": {},
   "source": [
    "# Train spacy NER Model for Videogames\n",
    "\n",
    "In this notebook we try to use the annotated video game wikipedia corpus in order to train a spacy model for video game entity recognition"
   ]
  },
  {
   "cell_type": "markdown",
   "metadata": {},
   "source": [
    "### Prepare Training data"
   ]
  },
  {
   "cell_type": "code",
   "execution_count": 135,
   "metadata": {},
   "outputs": [],
   "source": [
    "import json\n",
    "import os"
   ]
  },
  {
   "cell_type": "code",
   "execution_count": 136,
   "metadata": {},
   "outputs": [],
   "source": [
    "NER_DIR = \"/home/pmuehleder/data/wikipedia/ner_train\""
   ]
  },
  {
   "cell_type": "code",
   "execution_count": 137,
   "metadata": {},
   "outputs": [],
   "source": [
    "# load training dataset\n",
    "sents = []\n",
    "for filename in os.listdir(NER_DIR):\n",
    "    with open(os.path.join(NER_DIR, filename)) as f:\n",
    "        sents += json.load(f)"
   ]
  },
  {
   "cell_type": "code",
   "execution_count": 138,
   "metadata": {},
   "outputs": [
    {
     "data": {
      "text/plain": [
       "9446"
      ]
     },
     "execution_count": 138,
     "metadata": {},
     "output_type": "execute_result"
    }
   ],
   "source": [
    "len(sents)"
   ]
  },
  {
   "cell_type": "code",
   "execution_count": 122,
   "metadata": {},
   "outputs": [
    {
     "data": {
      "text/plain": [
       "{'annotations': [{'end': 172,\n",
       "   'name': 'Final Fantasy IV',\n",
       "   'start': 156,\n",
       "   'type': 'Game'},\n",
       "  {'end': 457,\n",
       "   'name': 'Final Fantasy IV: The Complete Collection',\n",
       "   'start': 416,\n",
       "   'type': 'Game'}],\n",
       " 'text': \"'Final Fantasy IV: The After Years' is an episodic role-playing video game co-developed by Matrix Software and Square Enix, as the sequel to the 1991 title Final Fantasy IV. Originally released in Japan as a mobile game in 2008, an enhanced WiiWare port of the title was released in North America, Europe and Japan in 2009. In 2011, the game was bundled with Final Fantasy IV as the PlayStation Portable compilation Final Fantasy IV: The Complete Collection, which also included a new game; Final Fantasy IV: Interlude, which served as a bridge between the original game and The After Years. Using the same style as the Nintendo DS version of Final Fantasy IV, this game was remade for the Android and iOS platforms.\"}"
      ]
     },
     "execution_count": 122,
     "metadata": {},
     "output_type": "execute_result"
    }
   ],
   "source": [
    "sents[460]"
   ]
  },
  {
   "cell_type": "code",
   "execution_count": 34,
   "metadata": {},
   "outputs": [],
   "source": [
    "TRAIN_DATA = []\n",
    "for sent in sents:\n",
    "    entities = [ (x[\"start\"], x[\"end\"], \"VIDEOGAME\") for x in sent[\"annotations\"] ]\n",
    "    TRAIN_DATA.append( (sent[\"text\"], { 'entities': entities } ) )"
   ]
  },
  {
   "cell_type": "code",
   "execution_count": 35,
   "metadata": {},
   "outputs": [
    {
     "data": {
      "text/plain": [
       "('Kaboom! is one of the titles included on the Activision Anthology compilation.',\n",
       " {'entities': [(45, 65, 'VIDEOGAME')]})"
      ]
     },
     "execution_count": 35,
     "metadata": {},
     "output_type": "execute_result"
    }
   ],
   "source": [
    "TRAIN_DATA[3]"
   ]
  },
  {
   "cell_type": "markdown",
   "metadata": {},
   "source": [
    "# Train spacy model"
   ]
  },
  {
   "cell_type": "code",
   "execution_count": 52,
   "metadata": {},
   "outputs": [],
   "source": [
    "import spacy\n",
    "import random\n",
    "from tqdm import tqdm"
   ]
  },
  {
   "cell_type": "code",
   "execution_count": 40,
   "metadata": {},
   "outputs": [],
   "source": [
    "LABEL = \"VIDEOGAME\"\n",
    "OUT_DIR = \"/home/pmuehleder/data/wikipedia/models\""
   ]
  },
  {
   "cell_type": "code",
   "execution_count": 77,
   "metadata": {},
   "outputs": [],
   "source": [
    "output_dir = OUT_DIR\n",
    "n_iter = 20\n",
    "\n",
    "train_data = TRAIN_DATA[:3000]"
   ]
  },
  {
   "cell_type": "code",
   "execution_count": 78,
   "metadata": {},
   "outputs": [],
   "source": [
    "#initiate empty model\n",
    "nlp = spacy.blank(\"en\")"
   ]
  },
  {
   "cell_type": "code",
   "execution_count": 79,
   "metadata": {},
   "outputs": [],
   "source": [
    "#choose ner pipe if available, otherwise create ner pip\n",
    "if 'ner' not in nlp.pipe_names:\n",
    "    ner = nlp.create_pipe('ner')\n",
    "    nlp.add_pipe(ner)\n",
    "else:\n",
    "    ner = nlp.get_pipe('ner')"
   ]
  },
  {
   "cell_type": "code",
   "execution_count": 80,
   "metadata": {},
   "outputs": [],
   "source": [
    "#add new entity to ner\n",
    "ner.add_label(LABEL)"
   ]
  },
  {
   "cell_type": "code",
   "execution_count": 81,
   "metadata": {},
   "outputs": [
    {
     "name": "stderr",
     "output_type": "stream",
     "text": [
      "100%|██████████| 20/20 [2:15:29<00:00, 406.45s/it]  "
     ]
    },
    {
     "name": "stdout",
     "output_type": "stream",
     "text": [
      "{'ner': 2622.976525583266}\n"
     ]
    },
    {
     "name": "stderr",
     "output_type": "stream",
     "text": [
      "\n"
     ]
    }
   ],
   "source": [
    "#train new entity ner model\n",
    "other_pipes = [pipe for pipe in nlp.pipe_names if pipe != 'ner']\n",
    "with nlp.disable_pipes(*other_pipes):  \n",
    "    optimizer = nlp.begin_training()\n",
    "    for itn in tqdm(range(n_iter)):\n",
    "        random.shuffle(train_data)\n",
    "        losses = {}\n",
    "        for text, annotations in train_data:\n",
    "            nlp.update([text], [annotations], sgd=optimizer, drop=0.35, losses=losses)\n",
    "    print(losses)"
   ]
  },
  {
   "cell_type": "code",
   "execution_count": 82,
   "metadata": {},
   "outputs": [],
   "source": [
    "#save model to disc\n",
    "nlp.meta[\"name\"] = \"videogame\"\n",
    "nlp.to_disk(output_dir)"
   ]
  },
  {
   "cell_type": "code",
   "execution_count": null,
   "metadata": {},
   "outputs": [],
   "source": []
  }
 ],
 "metadata": {
  "kernelspec": {
   "display_name": "Python 3",
   "language": "python",
   "name": "python3"
  },
  "language_info": {
   "codemirror_mode": {
    "name": "ipython",
    "version": 3
   },
   "file_extension": ".py",
   "mimetype": "text/x-python",
   "name": "python",
   "nbconvert_exporter": "python",
   "pygments_lexer": "ipython3",
   "version": "3.6.3"
  }
 },
 "nbformat": 4,
 "nbformat_minor": 2
}
